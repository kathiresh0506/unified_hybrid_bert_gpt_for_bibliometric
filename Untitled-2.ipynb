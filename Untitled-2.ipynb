{
 "cells": [
  {
   "cell_type": "code",
   "execution_count": 1,
   "id": "0f34529b",
   "metadata": {},
   "outputs": [],
   "source": [
    "!pip install sentence-transformers scikit-learn umap-learn matplotlib --quiet\n"
   ]
  },
  {
   "cell_type": "code",
   "execution_count": 2,
   "id": "91813c06",
   "metadata": {},
   "outputs": [
    {
     "name": "stderr",
     "output_type": "stream",
     "text": [
      "<>:4: SyntaxWarning: invalid escape sequence '\\p'\n",
      "<>:4: SyntaxWarning: invalid escape sequence '\\p'\n",
      "C:\\Users\\kathi\\AppData\\Local\\Temp\\ipykernel_18020\\2836909921.py:4: SyntaxWarning: invalid escape sequence '\\p'\n",
      "  df = pd.read_csv(\"unified_hybrid_bert_gpt_for_bibliometric\\papers_enriched.csv\").dropna(subset=[\"clean_abstract\"])\n",
      "c:\\Users\\kathi\\AppData\\Local\\Programs\\Python\\Python312\\Lib\\site-packages\\sentence_transformers\\cross_encoder\\CrossEncoder.py:13: TqdmExperimentalWarning: Using `tqdm.autonotebook.tqdm` in notebook mode. Use `tqdm.tqdm` instead to force console mode (e.g. in jupyter console)\n",
      "  from tqdm.autonotebook import tqdm, trange\n",
      "c:\\Users\\kathi\\AppData\\Local\\Programs\\Python\\Python312\\Lib\\site-packages\\huggingface_hub\\file_download.py:797: FutureWarning: `resume_download` is deprecated and will be removed in version 1.0.0. Downloads always resume when possible. If you want to force a new download, use `force_download=True`.\n",
      "  warnings.warn(\n"
     ]
    },
    {
     "data": {
      "application/vnd.jupyter.widget-view+json": {
       "model_id": "9160eb4e8151483daf7dcba3d99d25d5",
       "version_major": 2,
       "version_minor": 0
      },
      "text/plain": [
       "Batches:   0%|          | 0/2 [00:00<?, ?it/s]"
      ]
     },
     "metadata": {},
     "output_type": "display_data"
    }
   ],
   "source": [
    "import pandas as pd\n",
    "from sentence_transformers import SentenceTransformer\n",
    "\n",
    "df = pd.read_csv(\"unified_hybrid_bert_gpt_for_bibliometric\\papers_enriched.csv\").dropna(subset=[\"clean_abstract\"])\n",
    "texts = df[\"clean_abstract\"].tolist()\n",
    "\n",
    "# Load or recompute embeddings\n",
    "model = SentenceTransformer(\"all-MiniLM-L6-v2\")\n",
    "embeddings = model.encode(texts, show_progress_bar=True)\n"
   ]
  },
  {
   "cell_type": "code",
   "execution_count": 3,
   "id": "8dceb86b",
   "metadata": {},
   "outputs": [],
   "source": [
    "from sklearn.mixture import GaussianMixture\n",
    "\n",
    "# Try k=5 to start; tune later\n",
    "k = 5\n",
    "gmm = GaussianMixture(n_components=k, covariance_type='full', random_state=42)\n",
    "gmm.fit(embeddings)\n",
    "\n",
    "# Get cluster assignments\n",
    "df[\"gmm_cluster\"] = gmm.predict(embeddings)\n",
    "\n",
    "# Optional: get soft probabilities\n",
    "probs = gmm.predict_proba(embeddings)\n",
    "df[\"gmm_probs\"] = probs.tolist()\n"
   ]
  },
  {
   "cell_type": "code",
   "execution_count": 4,
   "id": "92fa40e7",
   "metadata": {},
   "outputs": [
    {
     "name": "stdout",
     "output_type": "stream",
     "text": [
      "\n",
      "📚 Cluster 0 papers:\n",
      "\n",
      "• A large language model for electronic health records\n",
      "• The future landscape of large language models in medicine\n",
      "• The imperative for regulatory oversight of large language models (or generative AI) in healthcare\n",
      "\n",
      "📚 Cluster 1 papers:\n",
      "\n",
      "• Chain-of-Thought Prompting Elicits Reasoning in Large Language Models\n",
      "• Evaluating Large Language Models Trained on Code\n",
      "• Prompt Programming for Large Language Models: Beyond the Few-Shot Paradigm\n",
      "\n",
      "📚 Cluster 2 papers:\n",
      "\n",
      "• LoRA: Low-Rank Adaptation of Large Language Models\n",
      "• A Survey of Large Language Models\n",
      "• Emergent Abilities of Large Language Models\n",
      "\n",
      "📚 Cluster 3 papers:\n",
      "\n",
      "• Performance of ChatGPT on USMLE: Potential for AI-assisted medical education using large language models\n",
      "• Large language models encode clinical knowledge\n",
      "• How Does ChatGPT Perform on the United States Medical Licensing Examination (USMLE)? The Implications of Large Language Models for Medical Education and Knowledge Assessment\n",
      "\n",
      "📚 Cluster 4 papers:\n",
      "\n",
      "• Large Language Models are Zero-Shot Reasoners\n",
      "• A Survey on Evaluation of Large Language Models\n",
      "• Summary of ChatGPT-Related research and perspective towards the future of large language models\n"
     ]
    }
   ],
   "source": [
    "for i in range(k):\n",
    "    print(f\"\\n📚 Cluster {i} papers:\\n\")\n",
    "    cluster_papers = df[df[\"gmm_cluster\"] == i].head(3)\n",
    "    for title in cluster_papers[\"title\"]:\n",
    "        print(\"•\", title)\n"
   ]
  },
  {
   "cell_type": "code",
   "execution_count": 6,
   "id": "e982876a",
   "metadata": {},
   "outputs": [
    {
     "name": "stdout",
     "output_type": "stream",
     "text": [
      "✅ Clustered data saved to clustered_papers.csv\n"
     ]
    }
   ],
   "source": [
    "# Save clusters to a new CSV file\n",
    "df.to_csv(\"clustered_papers.csv\", index=False)\n",
    "print(\"✅ Clustered data saved to clustered_papers.csv\")\n"
   ]
  },
  {
   "cell_type": "code",
   "execution_count": 7,
   "id": "227b04d8",
   "metadata": {},
   "outputs": [
    {
     "data": {
      "text/html": [
       "<div>\n",
       "<style scoped>\n",
       "    .dataframe tbody tr th:only-of-type {\n",
       "        vertical-align: middle;\n",
       "    }\n",
       "\n",
       "    .dataframe tbody tr th {\n",
       "        vertical-align: top;\n",
       "    }\n",
       "\n",
       "    .dataframe thead th {\n",
       "        text-align: right;\n",
       "    }\n",
       "</style>\n",
       "<table border=\"1\" class=\"dataframe\">\n",
       "  <thead>\n",
       "    <tr style=\"text-align: right;\">\n",
       "      <th></th>\n",
       "      <th>id</th>\n",
       "      <th>title</th>\n",
       "      <th>doi</th>\n",
       "      <th>publication_year</th>\n",
       "      <th>authors</th>\n",
       "      <th>abstract</th>\n",
       "      <th>open_access</th>\n",
       "      <th>host_venue</th>\n",
       "      <th>clean_abstract</th>\n",
       "      <th>keywords</th>\n",
       "      <th>entities</th>\n",
       "      <th>gmm_cluster</th>\n",
       "      <th>gmm_probs</th>\n",
       "    </tr>\n",
       "  </thead>\n",
       "  <tbody>\n",
       "    <tr>\n",
       "      <th>0</th>\n",
       "      <td>https://openalex.org/W4221143046</td>\n",
       "      <td>Chain-of-Thought Prompting Elicits Reasoning i...</td>\n",
       "      <td>https://doi.org/10.48550/arxiv.2201.11903</td>\n",
       "      <td>2022</td>\n",
       "      <td>Jason Lee, Xuezhi Wang, Dale Schuurmans, Maart...</td>\n",
       "      <td>We explore how generating a chain of thought -...</td>\n",
       "      <td>True</td>\n",
       "      <td>NaN</td>\n",
       "      <td>we explore how generating a chain of thought  ...</td>\n",
       "      <td>['reasoning abilities', 'reasoning tasks', 'in...</td>\n",
       "      <td>['models', 'model', 'gsm8k benchmark', 'arithm...</td>\n",
       "      <td>1</td>\n",
       "      <td>[0.0, 1.0, 0.0, 0.0, 0.0]</td>\n",
       "    </tr>\n",
       "    <tr>\n",
       "      <th>1</th>\n",
       "      <td>https://openalex.org/W3168867926</td>\n",
       "      <td>LoRA: Low-Rank Adaptation of Large Language Mo...</td>\n",
       "      <td>https://doi.org/10.48550/arxiv.2106.09685</td>\n",
       "      <td>2021</td>\n",
       "      <td>J. Edward Hu, Yelong Shen, Phillip Wallis, Zey...</td>\n",
       "      <td>An important paradigm of natural language proc...</td>\n",
       "      <td>True</td>\n",
       "      <td>NaN</td>\n",
       "      <td>an important paradigm of natural language proc...</td>\n",
       "      <td>['rankdeficiency language', 'lowrank adaptatio...</td>\n",
       "      <td>['gpt2', 'times', 'rankdeficiency', 'reducing'...</td>\n",
       "      <td>2</td>\n",
       "      <td>[0.0, 0.0, 1.0, 0.0, 0.0]</td>\n",
       "    </tr>\n",
       "    <tr>\n",
       "      <th>2</th>\n",
       "      <td>https://openalex.org/W4319662928</td>\n",
       "      <td>Performance of ChatGPT on USMLE: Potential for...</td>\n",
       "      <td>https://doi.org/10.1371/journal.pdig.0000198</td>\n",
       "      <td>2023</td>\n",
       "      <td>Tiffany H. Kung, Morgan Cheatham, Arielle Mede...</td>\n",
       "      <td>We evaluated the performance of a large langua...</td>\n",
       "      <td>True</td>\n",
       "      <td>NaN</td>\n",
       "      <td>we evaluated the performance of a large langua...</td>\n",
       "      <td>['clinical decisionmaking', 'medical licensing...</td>\n",
       "      <td>['model', 'models', 'explanations', 'concordan...</td>\n",
       "      <td>3</td>\n",
       "      <td>[0.0, 0.0, 0.0, 1.0, 0.0]</td>\n",
       "    </tr>\n",
       "    <tr>\n",
       "      <th>3</th>\n",
       "      <td>https://openalex.org/W4384071683</td>\n",
       "      <td>Large language models encode clinical knowledge</td>\n",
       "      <td>https://doi.org/10.1038/s41586-023-06291-2</td>\n",
       "      <td>2023</td>\n",
       "      <td>Karan Singhal, Shekoofeh Azizi, Tao Tu, S. Sar...</td>\n",
       "      <td>Abstract Large language models (LLMs) have dem...</td>\n",
       "      <td>True</td>\n",
       "      <td>NaN</td>\n",
       "      <td>abstract large language models llms have demon...</td>\n",
       "      <td>['question answering', 'language models', 'kno...</td>\n",
       "      <td>['mmlu', 'multimedqa', 'variant', 'accuracy', ...</td>\n",
       "      <td>3</td>\n",
       "      <td>[0.0, 0.0, 0.0, 1.0, 0.0]</td>\n",
       "    </tr>\n",
       "    <tr>\n",
       "      <th>4</th>\n",
       "      <td>https://openalex.org/W3177813494</td>\n",
       "      <td>Evaluating Large Language Models Trained on Code</td>\n",
       "      <td>https://doi.org/10.48550/arxiv.2107.03374</td>\n",
       "      <td>2021</td>\n",
       "      <td>Mark Chen, Jerry Tworek, Heewoo Jun, Qiming Yu...</td>\n",
       "      <td>We introduce Codex, a GPT language model fine-...</td>\n",
       "      <td>True</td>\n",
       "      <td>NaN</td>\n",
       "      <td>we introduce codex a gpt language model finetu...</td>\n",
       "      <td>['gpt language', 'code generation', 'python co...</td>\n",
       "      <td>['study', 'long chains', 'model', 'codex power...</td>\n",
       "      <td>1</td>\n",
       "      <td>[0.0, 1.0, 0.0, 0.0, 0.0]</td>\n",
       "    </tr>\n",
       "  </tbody>\n",
       "</table>\n",
       "</div>"
      ],
      "text/plain": [
       "                                 id  \\\n",
       "0  https://openalex.org/W4221143046   \n",
       "1  https://openalex.org/W3168867926   \n",
       "2  https://openalex.org/W4319662928   \n",
       "3  https://openalex.org/W4384071683   \n",
       "4  https://openalex.org/W3177813494   \n",
       "\n",
       "                                               title  \\\n",
       "0  Chain-of-Thought Prompting Elicits Reasoning i...   \n",
       "1  LoRA: Low-Rank Adaptation of Large Language Mo...   \n",
       "2  Performance of ChatGPT on USMLE: Potential for...   \n",
       "3    Large language models encode clinical knowledge   \n",
       "4   Evaluating Large Language Models Trained on Code   \n",
       "\n",
       "                                            doi  publication_year  \\\n",
       "0     https://doi.org/10.48550/arxiv.2201.11903              2022   \n",
       "1     https://doi.org/10.48550/arxiv.2106.09685              2021   \n",
       "2  https://doi.org/10.1371/journal.pdig.0000198              2023   \n",
       "3    https://doi.org/10.1038/s41586-023-06291-2              2023   \n",
       "4     https://doi.org/10.48550/arxiv.2107.03374              2021   \n",
       "\n",
       "                                             authors  \\\n",
       "0  Jason Lee, Xuezhi Wang, Dale Schuurmans, Maart...   \n",
       "1  J. Edward Hu, Yelong Shen, Phillip Wallis, Zey...   \n",
       "2  Tiffany H. Kung, Morgan Cheatham, Arielle Mede...   \n",
       "3  Karan Singhal, Shekoofeh Azizi, Tao Tu, S. Sar...   \n",
       "4  Mark Chen, Jerry Tworek, Heewoo Jun, Qiming Yu...   \n",
       "\n",
       "                                            abstract  open_access  host_venue  \\\n",
       "0  We explore how generating a chain of thought -...         True         NaN   \n",
       "1  An important paradigm of natural language proc...         True         NaN   \n",
       "2  We evaluated the performance of a large langua...         True         NaN   \n",
       "3  Abstract Large language models (LLMs) have dem...         True         NaN   \n",
       "4  We introduce Codex, a GPT language model fine-...         True         NaN   \n",
       "\n",
       "                                      clean_abstract  \\\n",
       "0  we explore how generating a chain of thought  ...   \n",
       "1  an important paradigm of natural language proc...   \n",
       "2  we evaluated the performance of a large langua...   \n",
       "3  abstract large language models llms have demon...   \n",
       "4  we introduce codex a gpt language model finetu...   \n",
       "\n",
       "                                            keywords  \\\n",
       "0  ['reasoning abilities', 'reasoning tasks', 'in...   \n",
       "1  ['rankdeficiency language', 'lowrank adaptatio...   \n",
       "2  ['clinical decisionmaking', 'medical licensing...   \n",
       "3  ['question answering', 'language models', 'kno...   \n",
       "4  ['gpt language', 'code generation', 'python co...   \n",
       "\n",
       "                                            entities  gmm_cluster  \\\n",
       "0  ['models', 'model', 'gsm8k benchmark', 'arithm...            1   \n",
       "1  ['gpt2', 'times', 'rankdeficiency', 'reducing'...            2   \n",
       "2  ['model', 'models', 'explanations', 'concordan...            3   \n",
       "3  ['mmlu', 'multimedqa', 'variant', 'accuracy', ...            3   \n",
       "4  ['study', 'long chains', 'model', 'codex power...            1   \n",
       "\n",
       "                   gmm_probs  \n",
       "0  [0.0, 1.0, 0.0, 0.0, 0.0]  \n",
       "1  [0.0, 0.0, 1.0, 0.0, 0.0]  \n",
       "2  [0.0, 0.0, 0.0, 1.0, 0.0]  \n",
       "3  [0.0, 0.0, 0.0, 1.0, 0.0]  \n",
       "4  [0.0, 1.0, 0.0, 0.0, 0.0]  "
      ]
     },
     "execution_count": 7,
     "metadata": {},
     "output_type": "execute_result"
    }
   ],
   "source": [
    "pd.read_csv(\"clustered_papers.csv\").head()\n"
   ]
  },
  {
   "cell_type": "code",
   "execution_count": 5,
   "id": "7ced1250",
   "metadata": {},
   "outputs": [
    {
     "name": "stderr",
     "output_type": "stream",
     "text": [
      "c:\\Users\\kathi\\AppData\\Local\\Programs\\Python\\Python312\\Lib\\site-packages\\umap\\umap_.py:1952: UserWarning: n_jobs value 1 overridden to 1 by setting random_state. Use no seed for parallelism.\n",
      "  warn(\n"
     ]
    },
    {
     "data": {
      "image/png": "[encoded data removed]",
      "text/plain": [
       "<Figure size 1000x600 with 2 Axes>"
      ]
     },
     "metadata": {},
     "output_type": "display_data"
    }
   ],
   "source": [
    "import umap.umap_ as umap\n",
    "import matplotlib.pyplot as plt\n",
    "\n",
    "reducer = umap.UMAP(random_state=42)\n",
    "embedding_2d = reducer.fit_transform(embeddings)\n",
    "\n",
    "plt.figure(figsize=(10, 6))\n",
    "plt.scatter(embedding_2d[:, 0], embedding_2d[:, 1], c=df[\"gmm_cluster\"], cmap='tab10', s=10)\n",
    "plt.colorbar(label=\"Cluster\")\n",
    "plt.title(\"GMM Clustering of Papers (UMAP Projection)\")\n",
    "plt.xlabel(\"UMAP-1\")\n",
    "plt.ylabel(\"UMAP-2\")\n",
    "plt.show()\n"
   ]
  },
  {
   "cell_type": "code",
   "execution_count": null,
   "id": "13f16aba",
   "metadata": {},
   "outputs": [],
   "source": []
  }
 ],
 "metadata": {
  "kernelspec": {
   "display_name": "Python 3",
   "language": "python",
   "name": "python3"
  },
  "language_info": {
   "codemirror_mode": {
    "name": "ipython",
    "version": 3
   },
   "file_extension": ".py",
   "mimetype": "text/x-python",
   "name": "python",
   "nbconvert_exporter": "python",
   "pygments_lexer": "ipython3",
   "version": "3.12.5"
  }
 },
 "nbformat": 4,
 "nbformat_minor": 5
}
